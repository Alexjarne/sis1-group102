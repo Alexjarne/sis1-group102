{
 "cells": [
  {
   "cell_type": "markdown",
   "metadata": {
    "id": "EuCJXTMr_3eA"
   },
   "source": [
    "# **Intro to SiS1 Labs**\n",
    "\n",
    "The goal of the labs of Signal and Systems 1 is to gain knowledge on the course’s topics by solving a specific signal processing problem. By the end of the course, you should be able to imitate, by synthesis, the sound produced by a plucked string instrument using the knowledge acquired in the theory and seminar classes. This will be a cumulative process, in each lab new techniques will be applied in order to improve the synthesis. First let's show what we will achieve by the end of the course. For each lab we need to import some auxiliary functions needed to load the audio files and listen to them:\n"
   ]
  },
  {
   "cell_type": "code",
   "execution_count": null,
   "metadata": {
    "id": "ypTWnizY5Ui_"
   },
   "outputs": [],
   "source": [
    "from util import load_audio, save_audio, plot_signals\n",
    "from IPython.display import Audio"
   ]
  },
  {
   "cell_type": "markdown",
   "metadata": {
    "id": "3kyuMhzf5829"
   },
   "source": [
    "**Reference signal**\n",
    "\n",
    "Now let's load and listen to a reference signal like the one you will use:"
   ]
  },
  {
   "cell_type": "code",
   "execution_count": null,
   "metadata": {
    "colab": {
     "base_uri": "https://localhost:8080/",
     "height": 250
    },
    "executionInfo": {
     "elapsed": 418,
     "status": "error",
     "timestamp": 1696423237923,
     "user": {
      "displayName": "ANDREA SOFIA VALLEJO BUDZISZEWSKI",
      "userId": "02468494066114694594"
     },
     "user_tz": -120
    },
    "id": "IaEhbheD5_3g",
    "outputId": "61442be1-550d-46d1-9d2c-c0306615ca86"
   },
   "outputs": [],
   "source": [
    "reference, fs = load_audio('audio/reference.wav')\n",
    "Audio(reference, rate=fs)"
   ]
  },
  {
   "cell_type": "markdown",
   "metadata": {
    "id": "37nq4EIj6CVE"
   },
   "source": [
    "**Synthesis**\n",
    "\n",
    "Now we can load and listen to a synthesised signal like the one you will obtain and that tries to imitate the reference signal. This is an audio signal created from scratch only using the knowledge gained during the course."
   ]
  },
  {
   "cell_type": "code",
   "execution_count": null,
   "metadata": {
    "colab": {
     "base_uri": "https://localhost:8080/",
     "height": 75
    },
    "executionInfo": {
     "elapsed": 1309,
     "status": "ok",
     "timestamp": 1633618374262,
     "user": {
      "displayName": "Nazif Can Tamer",
      "photoUrl": "https://lh3.googleusercontent.com/a-/AOh14GiTM52Gnv7dDaQrVpXTeAaRuek-M7AQlYrKekdg=s64",
      "userId": "07707576080257448155"
     },
     "user_tz": -120
    },
    "id": "Kpyugi4h6Fx2",
    "outputId": "eb439335-4004-47b8-cb6b-871f6627ce0a"
   },
   "outputs": [],
   "source": [
    "synthesis, fs = load_audio('audio/synthesis.wav')\n",
    "Audio(synthesis, rate=fs)"
   ]
  },
  {
   "cell_type": "markdown",
   "metadata": {
    "id": "TleTywiG6TNv"
   },
   "source": [
    "---"
   ]
  },
  {
   "cell_type": "markdown",
   "metadata": {
    "id": "lOuLJ9tG5HmQ"
   },
   "source": [
    "## **Lab 1**\n",
    "In this lab you will choose your reference sound to be used for all the labs and start imitating it with a single sinusoid."
   ]
  },
  {
   "cell_type": "markdown",
   "metadata": {
    "id": "wedbHQgYD8Gd"
   },
   "source": [
    "## **Exercises**\n",
    "\n",
    "**1. Choose a reference sound**\n",
    "\n",
    "1.1. Find a recording of a single plucked string sound. Be creative, do not choose “guitar” by default, nor copy a sound from another group. You should use [Freesound](https://freesound.org/) to find the recordings (Freesound is a huge collaborative database of audio snippets released under Creative Commons licenses created and maintained by researchers of the Music Technology Group of the UPF). Try to find a sound with the best possible quality. The ideal sound format should be: uncompress (such as.wav, .aiff, but no .mp3), mono (one channel) and with a sampling rate of  44100Hz. The sound file should also contain a single note. You can start by downloading a sound from freesound and modify it with Audacity to the right format and content."
   ]
  },
  {
   "cell_type": "markdown",
   "metadata": {
    "id": "nQzeA7FHIq_4"
   },
   "source": [
    "https://freesound.org/people/Jagadamba/sounds/253767/"
   ]
  },
  {
   "cell_type": "markdown",
   "metadata": {
    "id": "CzY_zhNNI3jP"
   },
   "source": [
    "1.2. Create a github repository and upload your edited audio file there:\n",
    "\n",
    "1) Sing up to github using your UPF gmail account: https://github.com/\n",
    "\n",
    "2) Create a repository called **sis1_groupX** where X is your group number: https://docs.github.com/en/get-started/quickstart/create-a-repo\n",
    "\n",
    "3) Upload your edited audio file to the repository\n"
   ]
  },
  {
   "cell_type": "markdown",
   "metadata": {
    "id": "ZOToMiLUtlPn"
   },
   "source": [
    "1.3. Now you can clone your repository and access the audio file locally. Change the following code (user name and file name) to clone the repository and load the audio file."
   ]
  },
  {
   "cell_type": "code",
   "execution_count": null,
   "metadata": {
    "id": "ubEXBkaptkt8"
   },
   "outputs": [
    {
     "ename": "",
     "evalue": "",
     "output_type": "error",
     "traceback": [
      "\u001b[1;31mRunning cells with 'Python 3.13.3' requires the ipykernel package.\n",
      "\u001b[1;31mInstall 'ipykernel' into the Python environment. \n",
      "\u001b[1;31mCommand: '/usr/local/bin/python3 -m pip install ipykernel -U --user --force-reinstall'"
     ]
    }
   ],
   "source": [
    "filepath = \"./sis1_group102/audio/audioSisLabs.wav\"\n",
    "ref, fs = load_audio(filepath)\n"
   ]
  },
  {
   "cell_type": "code",
   "execution_count": null,
   "metadata": {},
   "outputs": [],
   "source": []
  },
  {
   "cell_type": "code",
   "execution_count": null,
   "metadata": {},
   "outputs": [],
   "source": []
  },
  {
   "cell_type": "markdown",
   "metadata": {
    "id": "bSUaYNjIKNvk"
   },
   "source": [
    "Note that `load_audio` function returns two variables: the audio signal (as a one dimensional array of floating point numbers), and the sampling rate (as a integer number). Now we can plot the audio signal:"
   ]
  },
  {
   "cell_type": "code",
   "execution_count": null,
   "metadata": {
    "id": "b8Rc6jowKd9m"
   },
   "outputs": [],
   "source": [
    "plot_signals(ref, fs)"
   ]
  },
  {
   "cell_type": "markdown",
   "metadata": {
    "id": "OpC2ektLLOEz"
   },
   "source": [
    "You can use the zoom in tool to see more details."
   ]
  },
  {
   "cell_type": "markdown",
   "metadata": {
    "id": "oRaDBnzlL3Eo"
   },
   "source": [
    "You can also use Audio widget to listen the audio signal:"
   ]
  },
  {
   "cell_type": "code",
   "execution_count": null,
   "metadata": {
    "id": "tASfGZQ8Lucl"
   },
   "outputs": [],
   "source": [
    "Audio(ref, rate=fs)"
   ]
  },
  {
   "cell_type": "markdown",
   "metadata": {
    "id": "L57v5vMrN9Ot"
   },
   "source": [
    "\n",
    "\n",
    "---\n",
    "\n"
   ]
  },
  {
   "cell_type": "markdown",
   "metadata": {
    "id": "E4qrE8MyNEJn"
   },
   "source": [
    "**2. Measure the signal period and fundamental frequency**\n",
    "\n",
    "2.1. Measure the period length, in seconds, and the fundamental frequency, in Hz, of the sound you choose. You can use Audacity to measure the period by zooming into a stable portion of the sound. Then compute its inverse to find the fundamental frequency. Find the closest note (note name) of the measured frequency (use google)."
   ]
  },
  {
   "cell_type": "markdown",
   "metadata": {
    "id": "ee6QZQuSN2VK"
   },
   "source": [
    "Fundamental frequency: ≈ 374 Hz.\n",
    "Closest musical note (A4 = 440 Hz): F♯4 / G♭4 (theoretical 369.99 Hz)."
   ]
  },
  {
   "cell_type": "code",
   "execution_count": null,
   "metadata": {},
   "outputs": [],
   "source": []
  },
  {
   "cell_type": "markdown",
   "metadata": {
    "id": "rqa9yRtdOBL0"
   },
   "source": [
    "2.2. Calculate the period from the frequency value using Python:\n"
   ]
  },
  {
   "cell_type": "code",
   "execution_count": null,
   "metadata": {
    "id": "7FfR2poWOImk"
   },
   "outputs": [],
   "source": [
    "import numpy as np\n",
    "from util import load_audio, plot_signals  # adjust import path if needed\n",
    "\n",
    "x, fs = load_audio(\"./sis1_group102/audio/audioSisLabs.wav\")\n",
    "\n",
    "t0, dur = 0.12, 0.35\n",
    "i0, i1 = int(t0*fs), int((t0+dur)*fs)\n",
    "seg = x[i0:i1] - np.mean(x[i0:i1])\n",
    "\n",
    "n = 1 << int(np.ceil(np.log2(2*len(seg))))\n",
    "X = np.fft.rfft(seg, n=n)\n",
    "r = np.fft.irfft(np.abs(X)**2, n=n)[:len(seg)]\n",
    "r = r / (r[0] + 1e-12)\n",
    "\n",
    "fmin, fmax = 60.0, 1500.0\n",
    "lag_min, lag_max = int(fs/fmax), min(len(r)-1, int(fs/fmin))\n",
    "lag = np.argmax(r[lag_min:lag_max+1]) + lag_min\n",
    "\n",
    "f0 = fs / lag\n",
    "T = 1.0 / f0\n",
    "print(f\"f0 = {f0:.2f} Hz, T = {T*1e3:.2f} ms\")\n",
    "\n",
    "plot_signals([x], fs=fs, t_start=i0/fs, t_end=i0/fs + 3*T, labels=[\"reference\"])\n"
   ]
  },
  {
   "cell_type": "markdown",
   "metadata": {
    "id": "SW5G_Ch0OSC-"
   },
   "source": [
    "2.3. Plot three periods of the signal using the `plot_signals` function and selecting `t_start` and `t_end` arguments accordingly. Try to get the first periods of the audio signal but avoiding the attack section."
   ]
  },
  {
   "cell_type": "code",
   "execution_count": null,
   "metadata": {
    "id": "sMKb9-CMNQLJ"
   },
   "outputs": [],
   "source": [
    "Tplot = T\n",
    "t_start = (i0/fs) + 0.02          \n",
    "t_end   = t_start + 3*Tplot\n",
    "\n",
    "if plot_signals:\n",
    "    plot_signals([ref], fs=fs, t_start=t_start, t_end=t_end, labels=[\"reference\"])\n",
    "else:\n",
    "    n = len(ref)\n",
    "    t = np.arange(n)/fs\n",
    "    i_a = max(0, int(t_start*fs))\n",
    "    i_b = min(n, int(t_end*fs))\n",
    "    plt.figure()\n",
    "    plt.plot(t[i_a:i_b], ref[i_a:i_b])\n",
    "    plt.xlabel(\"Time (s)\"); plt.ylabel(\"Amplitude\")\n",
    "    plt.title(\"Three periods of the reference (attack avoided)\")\n",
    "    plt.show()\n"
   ]
  },
  {
   "cell_type": "markdown",
   "metadata": {
    "id": "jBxOf-CeOtyP"
   },
   "source": [
    "2.4. Measure the period of the signal manually by identifying the begining and ending of a periodic cycle. Note that when you hover the mouse over one of the points in the plot, you can see the time and amplitude values. For instance, you can check the cross by zero."
   ]
  },
  {
   "cell_type": "markdown",
   "metadata": {
    "id": "QzqeQ8EwPZN7"
   },
   "source": [
    "After zooming into a steady segment and checking the distance between consecutive upward zero crossings, the measured period is approximately 2.642 milliseconds. This corresponds to a measured frequency of approximately 378.5 hertz."
   ]
  },
  {
   "cell_type": "markdown",
   "metadata": {
    "id": "a1QBbHmtPitr"
   },
   "source": [
    "2.5. Do the measured (2.4) and theoretical (2.2) periods coincide? If not, explain why."
   ]
  },
  {
   "cell_type": "markdown",
   "metadata": {
    "id": "L-XVkTs6Rgov"
   },
   "source": [
    "The measured and theoretical values are very close but not identical. From question 2.2 the theoretical period is approximately 2.676 milliseconds and the theoretical frequency is approximately 373.7 hertz. The absolute difference between periods is about 0.034 milliseconds which is about 1.27 percent of the theoretical period. The absolute difference between frequencies is about 4.81 hertz which is about 1.29 percent of the theoretical frequency. The small mismatch is explained by the window you choose for measurement, the sound not being a perfectly pure sinusoid because it has harmonics and a decaying envelope, finite sampling effects, and small manual readout inaccuracies."
   ]
  },
  {
   "cell_type": "markdown",
   "metadata": {
    "id": "RAZy6ampR51t"
   },
   "source": [
    "\n",
    "\n",
    "---\n",
    "\n"
   ]
  },
  {
   "cell_type": "markdown",
   "metadata": {
    "id": "6X5WbfamR8wa"
   },
   "source": [
    "**3. Generating a sinusoid**"
   ]
  },
  {
   "cell_type": "markdown",
   "metadata": {
    "id": "W7rbJNL8SJ5l"
   },
   "source": [
    "3.1. Create a sinusoid of the same duration than the reference signal and same frequency than the fundamental frequency. Plot it along with the audio signal of the reference recording. Plot the same time segment that 2.3. Note that the sampling rate should be the same for both signals. Try to find the values of Amplitude and initial Phase that make the two signal segments plotted to match as close as possible (do not attempt to imitate the whole signal). Matching the phase is a bit tricky.\n",
    "\n"
   ]
  },
  {
   "cell_type": "code",
   "execution_count": null,
   "metadata": {
    "id": "hUhdrkV9VEIM"
   },
   "outputs": [],
   "source": [
    "N = len(ref); t_all = np.arange(N)/fs; w = 2*np.pi*f0\n",
    "ta, tb = t_start, t_end\n",
    "m = (t_all >= ta) & (t_all <= tb)\n",
    "tm = t_all[m]; xm = ref[m]\n",
    "C = np.column_stack([np.cos(w*tm), np.sin(w*tm)])\n",
    "a, b = np.linalg.lstsq(C, xm, rcond=None)[0]\n",
    "A_fit = np.hypot(a, b); phi_fit = np.arctan2(-b, a)\n",
    "synth = A_fit * np.cos(w*t_all + phi_fit)\n",
    "if plot_signals:\n",
    "    plot_signals([ref, synth], fs=fs, t_start=t_start, t_end=t_end, labels=[\"reference\", \"synth\"])\n",
    "else:\n",
    "    ia, ib = int(t_start*fs), int(t_end*fs)\n",
    "    plt.figure(); plt.plot(t_all[ia:ib], ref[ia:ib], label=\"reference\")\n",
    "    plt.plot(t_all[ia:ib], synth[ia:ib], label=\"synth\", alpha=0.8)\n",
    "    plt.legend(); plt.xlabel(\"Time (s)\"); plt.ylabel(\"Amplitude\")\n",
    "    plt.title(f\"A={A_fit:.3f}, phi={phi_fit:.3f} rad, f0={f0:.2f} Hz\"); plt.show()\n",
    "print(f\"A={A_fit:.4f}, phi={phi_fit:.4f} rad, f0={f0:.2f} Hz\")\n"
   ]
  },
  {
   "cell_type": "markdown",
   "metadata": {
    "id": "-XZsH78TVZYi"
   },
   "source": [
    "3.2. What are the main differences between the two signals."
   ]
  },
  {
   "cell_type": "markdown",
   "metadata": {
    "id": "MiV8xpIWVp_T"
   },
   "source": [
    "[Double click to enter your answer]\n"
   ]
  },
  {
   "cell_type": "markdown",
   "metadata": {
    "id": "gVWDFf-6Vudv"
   },
   "source": [
    "3.3. Listen to the synthesized signal usign the Audio widget. Sounds natural?"
   ]
  },
  {
   "cell_type": "code",
   "execution_count": null,
   "metadata": {
    "id": "JTu4GpMUWY-j"
   },
   "outputs": [],
   "source": [
    "Audio(synth, rate=fs)\n"
   ]
  },
  {
   "cell_type": "markdown",
   "metadata": {
    "id": "YZQldb_QWdyq"
   },
   "source": [
    "3.4. Save the synthesized signal using the 'save_audio` function:"
   ]
  },
  {
   "cell_type": "code",
   "execution_count": null,
   "metadata": {
    "id": "IIefvQl8WqUc"
   },
   "outputs": [],
   "source": [
    "out_path = \"./sis1_group102/audio/synthesis.wav\"\n",
    "s_out = np.clip(synth, -1.0, 1.0)\n",
    "if save_audio:\n",
    "    save_audio(s_out, fs, out_path)\n",
    "else:\n",
    "    import soundfile as sf\n",
    "    sf.write(out_path, s_out, fs)\n",
    "print(\"Saved:\", out_path)\n"
   ]
  }
 ],
 "metadata": {
  "colab": {
   "provenance": []
  },
  "kernelspec": {
   "display_name": "Python 3",
   "language": "python",
   "name": "python3"
  },
  "language_info": {
   "codemirror_mode": {
    "name": "ipython",
    "version": 3
   },
   "file_extension": ".py",
   "mimetype": "text/x-python",
   "name": "python",
   "nbconvert_exporter": "python",
   "pygments_lexer": "ipython3",
   "version": "3.13.3"
  }
 },
 "nbformat": 4,
 "nbformat_minor": 0
}
